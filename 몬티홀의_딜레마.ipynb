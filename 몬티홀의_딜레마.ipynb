{
  "nbformat": 4,
  "nbformat_minor": 0,
  "metadata": {
    "colab": {
      "provenance": [],
      "authorship_tag": "ABX9TyORbm2PBwQvRQABpWeUMIJz",
      "include_colab_link": true
    },
    "kernelspec": {
      "name": "python3",
      "display_name": "Python 3"
    },
    "language_info": {
      "name": "python"
    }
  },
  "cells": [
    {
      "cell_type": "markdown",
      "metadata": {
        "id": "view-in-github",
        "colab_type": "text"
      },
      "source": [
        "<a href=\"https://colab.research.google.com/github/hwanjikang/hwanjikang/blob/main/%EB%AA%AC%ED%8B%B0%ED%99%80%EC%9D%98_%EB%94%9C%EB%A0%88%EB%A7%88.ipynb\" target=\"_parent\"><img src=\"https://colab.research.google.com/assets/colab-badge.svg\" alt=\"Open In Colab\"/></a>"
      ]
    },
    {
      "cell_type": "code",
      "execution_count": 31,
      "metadata": {
        "colab": {
          "base_uri": "https://localhost:8080/"
        },
        "id": "HqsQeAH9Ezob",
        "outputId": "8dafc301-0d61-48f6-f066-1d778024f8d6"
      },
      "outputs": [
        {
          "output_type": "stream",
          "name": "stdout",
          "text": [
            "choose a door of the three doors : 2\n",
            "now, you can check the another door that nothing inside\n",
            "and, you can change your choice. can you change your choice? : no\n",
            "okay. than, lets take a look\n",
            "wow! you can take the gold! congratulation!\n"
          ]
        }
      ],
      "source": [
        "import random\n",
        "gold = random.randint(1, 3)\n",
        "pl = int(input(\"choose a door of the three doors : \"))\n",
        "\n",
        "#choose 1st door\n",
        "if pl == 1:\n",
        "  print(\"now, you can check the another door that nothing inside\")\n",
        "  ch = str(input(\"and, you can change your choice.  can you change your choice? : \"))\n",
        "\n",
        "#yes change\n",
        "  if ch == 'yes':\n",
        "    pl = int(input('okay. than what number do you change? : '))\n",
        "    if pl == 2:\n",
        "      if pl == gold:\n",
        "        print(\"wow! you can take the gold! congratulation!\")\n",
        "      elif pl != gold:\n",
        "        print(\"oh, you cant take the gold. i am sorry about that\")\n",
        "      else:\n",
        "        print(\"error\")\n",
        "    elif pl == 3:\n",
        "      if pl == gold:\n",
        "        print(\"wow! you can take the gold! congratulation!\")\n",
        "      elif pl != gold:\n",
        "        print(\"oh, you cant take the gold. i am sorry about that\")\n",
        "      else:\n",
        "        print(\"error\")\n",
        "\n",
        "#no change\n",
        "  elif ch == \"no\":\n",
        "    print(\"okay. than, lets take a look\")\n",
        "    if pl == gold:\n",
        "      print(\"wow! you can take the gold! congratulation!\")\n",
        "    elif pl != gold:\n",
        "      print(\"oh. you cant take the gold. i am sorry about that\")\n",
        "    else:\n",
        "      print(\"error\")\n",
        "  else:\n",
        "    print(\"2nd code error\")\n",
        "\n",
        "#choose 2nd door\n",
        "elif pl == 2:\n",
        "  print(\"now, you can check the another door that nothing inside\")\n",
        "  ch = str(input(\"and, you can change your choice. can you change your choice? : \"))\n",
        "\n",
        "#yes change\n",
        "  if ch == 'yes':\n",
        "    pl = int(input('okay. than what number do you change? : '))\n",
        "    if pl == 1:\n",
        "      if pl == gold:\n",
        "        print(\"wow! you can take the gold! congratulation!\")\n",
        "      elif pl != gold:\n",
        "        print(\"oh, you cant take the gold. i am sorry about that\")\n",
        "      else:\n",
        "        print(\"3rd code error\")\n",
        "    elif pl == 3:\n",
        "      if pl == gold:\n",
        "        print(\"wow! you can take the gold! congratulation!\")\n",
        "      elif pl != gold:\n",
        "        print(\"oh, you cant take the gold. i am sorry about that\")\n",
        "      else:\n",
        "        print(\"3rd code error\")\n",
        "\n",
        "#no change\n",
        "  elif ch == 'no':\n",
        "    print(\"okay. than, lets take a look\")\n",
        "    if pl == gold:\n",
        "      print(\"wow! you can take the gold! congratulation!\")\n",
        "    elif pl != gold:\n",
        "      print(\"oh, you cant take the gold. i am sorry about that\")\n",
        "    else:\n",
        "      print(\"3rd code error\")\n",
        "  else:\n",
        "    print(\"2nd code error\")\n",
        "\n",
        "#choose 3rd door\n",
        "elif pl == 3:\n",
        "  print(\"now, you can check the another door that nothing inside\")\n",
        "  ch = str(input(\"and, you can change your choice. can you change your choice? : \"))\n",
        "\n",
        "#yes change\n",
        "  if ch == 'yes':\n",
        "    pl = int(input('okay. than what number do you change? : '))\n",
        "    if pl == 1:\n",
        "      if pl == gold:\n",
        "        print(\"wow! you can take the gold! congratulation!\")\n",
        "      elif pl != gold:\n",
        "        print(\"oh, you cant take the gold. i am sorry about that\")\n",
        "      else:\n",
        "        print(\"3rd code error\")\n",
        "    elif pl == 2:\n",
        "      if pl == gold:\n",
        "        print(\"wow! you can take the gold! congratulation!\")\n",
        "      elif pl != gold:\n",
        "        print(\"oh, you cant take the gold. i am sorry about that\")\n",
        "      else:\n",
        "        print(\"3rd code error\")\n",
        "\n",
        "#no change\n",
        "  elif ch == \"no\":\n",
        "    print(\"okay. than, lets take a look\")\n",
        "    if pl == gold:\n",
        "      print(\"wow! you can take the gold! congratulation!\")\n",
        "    elif pl != gold:\n",
        "      print(\"oh, you cant take the gold. i am sorry about that\")\n",
        "    else:\n",
        "      print(\"3rd code error\")\n",
        "  else:\n",
        "    print(\"2nd code error\")\n",
        "\n",
        "else:\n",
        "  print(\"1st code error\")"
      ]
    }
  ]
}